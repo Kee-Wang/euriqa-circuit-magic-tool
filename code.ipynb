{
 "cells": [
  {
   "cell_type": "code",
   "execution_count": 1,
   "id": "1636c060",
   "metadata": {},
   "outputs": [],
   "source": [
    "from qiskit import *\n",
    "import numpy as np\n",
    "import networkx as nx"
   ]
  },
  {
   "cell_type": "markdown",
   "id": "9ee58b03",
   "metadata": {},
   "source": [
    "# Part 1: Transpiler"
   ]
  },
  {
   "cell_type": "code",
   "execution_count": 2,
   "id": "395da91f",
   "metadata": {},
   "outputs": [],
   "source": [
    "def get_native_gates(qc, optimization_level=3):\n",
    "    return qiskit.transpile(qc, basis_gates=['rz', 'rx', 'rxx', 'ry'], optimization_level=optimization_level)"
   ]
  },
  {
   "cell_type": "markdown",
   "id": "c5f7eba0",
   "metadata": {},
   "source": [
    "### example usage"
   ]
  },
  {
   "cell_type": "code",
   "execution_count": 3,
   "id": "dfd37508",
   "metadata": {},
   "outputs": [
    {
     "data": {
      "text/plain": [
       "<qiskit.circuit.instructionset.InstructionSet at 0x7f4b0ece9bb0>"
      ]
     },
     "execution_count": 3,
     "metadata": {},
     "output_type": "execute_result"
    }
   ],
   "source": [
    "c = qiskit.QuantumCircuit(2)\n",
    "# Unitary of the controlled-T gate\n",
    "c.append(qiskit.quantum_info.Operator(np.diag([\n",
    "    1, 1, 1, np.exp(1j*np.pi/4)\n",
    "])), [0, 1])"
   ]
  },
  {
   "cell_type": "code",
   "execution_count": 4,
   "id": "0f40f0bc",
   "metadata": {},
   "outputs": [
    {
     "data": {
      "text/html": [
       "<pre style=\"word-wrap: normal;white-space: pre;background: #fff0;line-height: 1.1;font-family: &quot;Courier New&quot;,Courier,monospace\">global phase: π/16\n",
       "     ┌──────────┐┌───────────┐ ┌────────┐            ┌───────────┐┌───────────┐»\n",
       "q_0: ┤ RY(-π/2) ├┤0          ├─┤ RZ(-π) ├────────────┤0          ├┤ RX(-7π/8) ├»\n",
       "     └┬───────┬─┘│  RXX(π/2) │┌┴────────┴┐┌─────────┐│  RXX(π/2) │├───────────┤»\n",
       "q_1: ─┤ RZ(π) ├──┤1          ├┤ RY(-π/8) ├┤ RX(-2π) ├┤1          ├┤ RZ(-7π/8) ├»\n",
       "      └───────┘  └───────────┘└──────────┘└─────────┘└───────────┘└───────────┘»\n",
       "«     ┌──────────┐\n",
       "«q_0: ┤ RY(-π/2) ├\n",
       "«     └──────────┘\n",
       "«q_1: ────────────\n",
       "«                 </pre>"
      ],
      "text/plain": [
       "global phase: π/16\n",
       "     ┌──────────┐┌───────────┐ ┌────────┐            ┌───────────┐┌───────────┐»\n",
       "q_0: ┤ RY(-π/2) ├┤0          ├─┤ RZ(-π) ├────────────┤0          ├┤ RX(-7π/8) ├»\n",
       "     └┬───────┬─┘│  RXX(π/2) │┌┴────────┴┐┌─────────┐│  RXX(π/2) │├───────────┤»\n",
       "q_1: ─┤ RZ(π) ├──┤1          ├┤ RY(-π/8) ├┤ RX(-2π) ├┤1          ├┤ RZ(-7π/8) ├»\n",
       "      └───────┘  └───────────┘└──────────┘└─────────┘└───────────┘└───────────┘»\n",
       "«     ┌──────────┐\n",
       "«q_0: ┤ RY(-π/2) ├\n",
       "«     └──────────┘\n",
       "«q_1: ────────────\n",
       "«                 "
      ]
     },
     "execution_count": 4,
     "metadata": {},
     "output_type": "execute_result"
    }
   ],
   "source": [
    "native_c = get_native_gates(c)\n",
    "native_c.draw()"
   ]
  },
  {
   "cell_type": "markdown",
   "id": "f4f72a70",
   "metadata": {},
   "source": [
    "# Part 2: Mapper"
   ]
  },
  {
   "cell_type": "code",
   "execution_count": 5,
   "id": "b58f94b2",
   "metadata": {},
   "outputs": [],
   "source": [
    "def interaction_graph_from_circuit(circuit):\n",
    "    '''\n",
    "    Builds a weighted interaction graph for a given circuit.\n",
    "\n",
    "    Nodes are qubits\n",
    "    Edges are weighted by the number of times pairs of qubits interact\n",
    "    '''\n",
    "    g = nx.Graph()\n",
    "    \n",
    "    for gate in circuit:\n",
    "        for q in gate[1]:\n",
    "            g.add_node(q)\n",
    "            \n",
    "        for i in range(len(gate[1])):\n",
    "            for j in range(i):\n",
    "                q1 = gate[1][i]\n",
    "                q2 = gate[1][j]\n",
    "                if q1 != q2:\n",
    "                    if (q1, q2) not in g.edges:\n",
    "                        g.add_edge(q1, q2, weight=1)\n",
    "                    else:\n",
    "                        g.edges[q1, q2]['weight'] += 1\n",
    "        \n",
    "    return g"
   ]
  },
  {
   "cell_type": "code",
   "execution_count": 6,
   "id": "d47a1e98",
   "metadata": {},
   "outputs": [],
   "source": [
    "def metric(adj, mapping, cost_matrix):\n",
    "    '''\n",
    "    Takes in weighted adjacency matrix of interaction graph of quantum circuit\n",
    "    and the mapping from qubit to hardware id number\n",
    "    and the cost matrix for a two qubit operation\n",
    "    \n",
    "    Returns the cost of running this interaction graph with this mapping.\n",
    "    '''\n",
    "    begin = 0\n",
    "    for i,edges in adj:\n",
    "        for k,v in edges.items():\n",
    "            if (i in mapping) and (k in mapping):\n",
    "                begin += v['weight']*cost_matrix[mapping[i]][mapping[k]]\n",
    "    return begin"
   ]
  },
  {
   "cell_type": "code",
   "execution_count": 7,
   "id": "baacd119",
   "metadata": {},
   "outputs": [],
   "source": [
    "def exec_strategy(adj, cost_matrix):\n",
    "    '''\n",
    "    This strategy choose the edges with highest weight (most communicative two qubits), and assign them first\n",
    "    '''\n",
    "    \n",
    "    # Dictionary where keys are the index of qiskit qubit objects (type: int)\n",
    "    # and values are target_hardware node ids (type: int)\n",
    "    mapping = {}\n",
    "    \n",
    "    # weight, index\n",
    "    weights = [{'weight': sum([q[1]['weight'] for q in list(i[1].items())]), \n",
    "                'qubit': i[0]} \n",
    "               for i in adj]\n",
    "    weights_sorted = sorted(weights, key=lambda f: f['weight'])[::-1]\n",
    "\n",
    "    # choose first one randomly\n",
    "    opts = list(range(len(cost_matrix)))\n",
    "    np.random.shuffle(opts)\n",
    "    pt = opts.pop()\n",
    "    seen = 0\n",
    "    mapping[weights_sorted[seen]['qubit']] = pt\n",
    "    seen += 1\n",
    "\n",
    "    while len(weights_sorted) > seen:\n",
    "        metrics = []\n",
    "        for o in opts:\n",
    "            test_mapping = mapping.copy()\n",
    "            test_mapping[weights_sorted[seen]['qubit']] = o\n",
    "            metrics.append(metric(adj, test_mapping, cost_matrix))\n",
    "\n",
    "        best_idx = np.argmin(metrics)\n",
    "        mapping[weights_sorted[seen]['qubit']] = opts[best_idx]\n",
    "        seen += 1\n",
    "        opts = opts[:best_idx] + opts[best_idx+1:]\n",
    "    return mapping"
   ]
  },
  {
   "cell_type": "code",
   "execution_count": 8,
   "id": "6087be53",
   "metadata": {},
   "outputs": [],
   "source": [
    "def map_circuit(quantum_circuit:QuantumCircuit, cost_matrix:np.array):\n",
    "    '''\n",
    "    Takes an input program given as a qiskit.QuantumCircuit\n",
    "    and a target hardware, given as a networkx graph.\n",
    "    Return a dictionary {qubit : hardware_id}\n",
    "\n",
    "    The target_hardware graph is an undirected graph with nodes\n",
    "    labeled 0 to n-1 where n is the total number of qubits.\n",
    "    '''\n",
    "\n",
    "    ig = interaction_graph_from_circuit(quantum_circuit)\n",
    "    assert len(ig.nodes) <= len(cost_matrix), 'Not enough qubits in the hardware'\n",
    "    adj = list(ig.adjacency())\n",
    "\n",
    "    mappings  = []\n",
    "    all_metrics = []\n",
    "    num_trials = 10\n",
    "    for _ in range(num_trials):\n",
    "        mapping = exec_strategy(adj, cost_matrix)\n",
    "        mappings.append(mapping)\n",
    "        all_metrics.append(metric(adj, mapping, cost_matrix))\n",
    "    return mappings[np.argmin(all_metrics)]"
   ]
  },
  {
   "cell_type": "markdown",
   "id": "04eb5b73",
   "metadata": {},
   "source": [
    "### example usage"
   ]
  },
  {
   "cell_type": "code",
   "execution_count": 9,
   "id": "526ff330",
   "metadata": {},
   "outputs": [],
   "source": [
    "cost = np.array([\n",
    "    [0, 0.08, 0.97, 0.2], \n",
    "    [0.08, 0, 0.4, 0],\n",
    "    [0, 0.5, 0, 0],\n",
    "    [0.2, 0.5, 0.30, 0],    \n",
    "])"
   ]
  },
  {
   "cell_type": "code",
   "execution_count": 10,
   "id": "fca5bfdb",
   "metadata": {},
   "outputs": [
    {
     "name": "stdout",
     "output_type": "stream",
     "text": [
      "[[0.    0.08  0.485 0.2  ]\n",
      " [0.08  0.    0.45  0.25 ]\n",
      " [0.485 0.45  0.    0.15 ]\n",
      " [0.2   0.25  0.15  0.   ]]\n"
     ]
    }
   ],
   "source": [
    "# make cost symmetric\n",
    "cost = (cost + cost.T)/2\n",
    "print(cost)"
   ]
  },
  {
   "cell_type": "code",
   "execution_count": 11,
   "id": "69577e03",
   "metadata": {},
   "outputs": [
    {
     "data": {
      "text/plain": [
       "{Qubit(QuantumRegister(2, 'q'), 1): 0, Qubit(QuantumRegister(2, 'q'), 0): 1}"
      ]
     },
     "execution_count": 11,
     "metadata": {},
     "output_type": "execute_result"
    }
   ],
   "source": [
    "map_circuit(c, cost)"
   ]
  },
  {
   "cell_type": "markdown",
   "id": "efefd41a",
   "metadata": {},
   "source": [
    "# A bigger example"
   ]
  },
  {
   "cell_type": "code",
   "execution_count": 12,
   "id": "3389fea8",
   "metadata": {},
   "outputs": [
    {
     "name": "stdout",
     "output_type": "stream",
     "text": [
      "Cuccaro Adder: n=4\n"
     ]
    },
    {
     "data": {
      "text/html": [
       "<pre style=\"word-wrap: normal;white-space: pre;background: #fff0;line-height: 1.1;font-family: &quot;Courier New&quot;,Courier,monospace\">global phase: π/4\n",
       "          ┌───┐                                                                              ┌─────────┐                                                                                                                                         ┌─────────┐                     ┌───┐                                 \n",
       "q_0: ─────┤ X ├────────────────────────■────────────────────────────────■─────────────────■──┤ RZ(π/4) ├──────────────■──────────────────────────────────────────────■─────────────────────■────────────────────────────────■─────────────────■──┤ RZ(π/4) ├──────────────■──────┤ X ├─────────────────────────────────\n",
       "          └─┬─┘┌───┐┌───┐┌──────────┐┌─┴─┐┌─────────┐┌───┐┌──────────┐┌─┴─┐┌───────────┐  │  ├─────────┤ ┌─────────┐  │                       ┌───┐                  │  ┌───┐┌──────────┐┌─┴─┐┌─────────┐┌───┐┌──────────┐┌─┴─┐┌───────────┐  │  ├─────────┤ ┌─────────┐  │      └─┬─┘                                 \n",
       "q_1: ──■────■──┤ H ├┤ X ├┤ RZ(-π/4) ├┤ X ├┤ RZ(π/4) ├┤ X ├┤ RZ(-π/4) ├┤ X ├┤ RZ(-5π/4) ├──┼──┤ RX(π/2) ├─┤ RZ(π/2) ├──┼──────────────────■────┤ H ├──────────────────┼──┤ X ├┤ RZ(-π/4) ├┤ X ├┤ RZ(π/4) ├┤ X ├┤ RZ(-π/4) ├┤ X ├┤ RZ(-5π/4) ├──┼──┤ RX(π/2) ├─┤ RZ(π/2) ├──┼────────■────────────────────────────────■──\n",
       "     ┌─┴─┐     └───┘└─┬─┘└──────────┘└───┘└─────────┘└─┬─┘├─────────┬┘└───┘└───────────┘┌─┴─┐├─────────┴┐└─────────┘┌─┴─┐┌────────────┐  │  ┌─┴───┴─┐┌────────────┐┌─┴─┐└─┬─┘└──────────┘└───┘└─────────┘└─┬─┘├─────────┬┘└───┘└───────────┘┌─┴─┐├─────────┴┐└─────────┘┌─┴─┐┌────────────┐┌───────┐┌────────────┐┌─┴─┐\n",
       "q_2: ┤ X ├────────────■────────────────────────────────■──┤ RZ(π/4) ├───────────────────┤ X ├┤ RZ(-π/4) ├───────────┤ X ├┤ RZ(2.6376) ├──┼──┤ RX(π) ├┤ RZ(2.6376) ├┤ X ├──■────────────────────────────────■──┤ RZ(π/4) ├───────────────────┤ X ├┤ RZ(-π/4) ├───────────┤ X ├┤ RZ(2.6376) ├┤ RX(π) ├┤ RZ(2.6376) ├┤ X ├\n",
       "     └───┘                                                └─────────┘                   └───┘└──────────┘           └───┘└────────────┘┌─┴─┐└───────┘└────────────┘└───┘                                      └─────────┘                   └───┘└──────────┘           └───┘└────────────┘└───────┘└────────────┘└───┘\n",
       "q_3: ──────────────────────────────────────────────────────────────────────────────────────────────────────────────────────────────────┤ X ├───────────────────────────────────────────────────────────────────────────────────────────────────────────────────────────────────────────────────────────────────────────\n",
       "                                                                                                                                       └───┘                                                                                                                                                                           </pre>"
      ],
      "text/plain": [
       "global phase: π/4\n",
       "          ┌───┐                                                                              ┌─────────┐                                                                                                                                         ┌─────────┐                     ┌───┐                                 \n",
       "q_0: ─────┤ X ├────────────────────────■────────────────────────────────■─────────────────■──┤ RZ(π/4) ├──────────────■──────────────────────────────────────────────■─────────────────────■────────────────────────────────■─────────────────■──┤ RZ(π/4) ├──────────────■──────┤ X ├─────────────────────────────────\n",
       "          └─┬─┘┌───┐┌───┐┌──────────┐┌─┴─┐┌─────────┐┌───┐┌──────────┐┌─┴─┐┌───────────┐  │  ├─────────┤ ┌─────────┐  │                       ┌───┐                  │  ┌───┐┌──────────┐┌─┴─┐┌─────────┐┌───┐┌──────────┐┌─┴─┐┌───────────┐  │  ├─────────┤ ┌─────────┐  │      └─┬─┘                                 \n",
       "q_1: ──■────■──┤ H ├┤ X ├┤ RZ(-π/4) ├┤ X ├┤ RZ(π/4) ├┤ X ├┤ RZ(-π/4) ├┤ X ├┤ RZ(-5π/4) ├──┼──┤ RX(π/2) ├─┤ RZ(π/2) ├──┼──────────────────■────┤ H ├──────────────────┼──┤ X ├┤ RZ(-π/4) ├┤ X ├┤ RZ(π/4) ├┤ X ├┤ RZ(-π/4) ├┤ X ├┤ RZ(-5π/4) ├──┼──┤ RX(π/2) ├─┤ RZ(π/2) ├──┼────────■────────────────────────────────■──\n",
       "     ┌─┴─┐     └───┘└─┬─┘└──────────┘└───┘└─────────┘└─┬─┘├─────────┬┘└───┘└───────────┘┌─┴─┐├─────────┴┐└─────────┘┌─┴─┐┌────────────┐  │  ┌─┴───┴─┐┌────────────┐┌─┴─┐└─┬─┘└──────────┘└───┘└─────────┘└─┬─┘├─────────┬┘└───┘└───────────┘┌─┴─┐├─────────┴┐└─────────┘┌─┴─┐┌────────────┐┌───────┐┌────────────┐┌─┴─┐\n",
       "q_2: ┤ X ├────────────■────────────────────────────────■──┤ RZ(π/4) ├───────────────────┤ X ├┤ RZ(-π/4) ├───────────┤ X ├┤ RZ(2.6376) ├──┼──┤ RX(π) ├┤ RZ(2.6376) ├┤ X ├──■────────────────────────────────■──┤ RZ(π/4) ├───────────────────┤ X ├┤ RZ(-π/4) ├───────────┤ X ├┤ RZ(2.6376) ├┤ RX(π) ├┤ RZ(2.6376) ├┤ X ├\n",
       "     └───┘                                                └─────────┘                   └───┘└──────────┘           └───┘└────────────┘┌─┴─┐└───────┘└────────────┘└───┘                                      └─────────┘                   └───┘└──────────┘           └───┘└────────────┘└───────┘└────────────┘└───┘\n",
       "q_3: ──────────────────────────────────────────────────────────────────────────────────────────────────────────────────────────────────┤ X ├───────────────────────────────────────────────────────────────────────────────────────────────────────────────────────────────────────────────────────────────────────────\n",
       "                                                                                                                                       └───┘                                                                                                                                                                           "
      ]
     },
     "execution_count": 12,
     "metadata": {},
     "output_type": "execute_result"
    }
   ],
   "source": [
    "# Implementation of the Cuccaro Quantum Adder from\n",
    "#   https://github.com/jmbaker94/quantumcircuitbenchmarks\n",
    "# Design from the paper\n",
    "#   https://arxiv.org/abs/quant-ph/0410184\n",
    "\n",
    "# Majority gate\n",
    "maj_c = QuantumCircuit(3, name='MAJ')\n",
    "maj_c.cx(2, 1)\n",
    "maj_c.cx(2, 0)\n",
    "maj_c.ccx(0, 1, 2)\n",
    "maj = maj_c.to_gate(label='MAJ')\n",
    "\n",
    "# 2-CNOT version of UnMajority and Add gate\n",
    "uma2_c = QuantumCircuit(3, name='UMA2')\n",
    "uma2_c.toffoli(0, 1, 2)\n",
    "uma2_c.cx(2, 0)\n",
    "uma2_c.cx(0, 1)\n",
    "uma2 = uma2_c.to_gate(label='UMA2')\n",
    "\n",
    "# 3-CNOT version of UnMajority and Add gate\n",
    "# (Allows more parallelism in the circuit)\n",
    "uma3_c = QuantumCircuit(3, name='UMA3')\n",
    "uma3_c.x(1)\n",
    "uma3_c.cx(0, 1)\n",
    "uma3_c.toffoli(0, 1, 2)\n",
    "uma3_c.x(1)\n",
    "uma3_c.cx(2, 0)\n",
    "uma3_c.cx(2, 1)\n",
    "uma3 = uma3_c.to_gate(label='UMA3')\n",
    "\n",
    "def cuccaro_adder(c, cin, a, b, cout, uma=uma3):\n",
    "    c.append(maj, [cin, b[0], a[0]])\n",
    "    for i in range(1, len(b)):\n",
    "        c.append(maj, [a[i-1], b[i], a[i]])\n",
    "\n",
    "    c.cx(a[-1], cout)\n",
    "\n",
    "    for i in reversed(range(1, len(b))):\n",
    "        c.append(uma, [a[i-1], b[i], a[i]])\n",
    "    c.append(uma, [cin, b[0], a[0]])\n",
    "\n",
    "def generate_adder_circuit(n, uma=uma3):\n",
    "    if n % 2 != 0:\n",
    "        raise ValueError('Odd number of qubits')\n",
    "\n",
    "    qubits = QuantumRegister\n",
    "    cin = range(1)\n",
    "    a = range(1, n//2)\n",
    "    b = range(n//2, n-1)\n",
    "    cout = range(n-1, n)\n",
    "    c = QuantumCircuit(n)\n",
    "        \n",
    "    cuccaro_adder(c, cin, a, b, cout, uma=uma)\n",
    "    return c\n",
    "\n",
    "def decomposed_adder_circuit(n):\n",
    "    return qiskit.transpile(generate_adder_circuit(n),\n",
    "                            basis_gates=['cx', 'rx', 'h', 'rz'])\n",
    "\n",
    "n=4\n",
    "print('Cuccaro Adder: n=' + str(n))\n",
    "cuccaro = decomposed_adder_circuit(n)\n",
    "cuccaro.draw(fold=-1)"
   ]
  },
  {
   "cell_type": "code",
   "execution_count": 13,
   "id": "7c6f0d29",
   "metadata": {},
   "outputs": [
    {
     "data": {
      "text/html": [
       "<pre style=\"word-wrap: normal;white-space: pre;background: #fff0;line-height: 1.1;font-family: &quot;Courier New&quot;,Courier,monospace\">global phase: -5π/4\n",
       "                                           ┌────────────┐┌──────────┐»\n",
       "q_0: ──────────────────────────────────────┤1           ├┤ RX(-π/2) ├»\n",
       "     ┌──────────┐┌────────────┐ ┌───────┐  │  RXX(-π/2) │└┬───────┬─┘»\n",
       "q_1: ┤ RY(-π/2) ├┤0           ├─┤ RX(π) ├──┤0           ├─┤ RZ(π) ├──»\n",
       "     └──────────┘│  RXX(-π/2) │┌┴───────┴─┐└┬──────────┬┘ └───────┘  »\n",
       "q_2: ────────────┤1           ├┤ RX(-π/2) ├─┤ RY(-π/2) ├─────────────»\n",
       "                 └────────────┘└──────────┘ └──────────┘             »\n",
       "q_3: ────────────────────────────────────────────────────────────────»\n",
       "                                                                     »\n",
       "«      ┌──────────┐                         ┌────────────┐ ┌───────┐  »\n",
       "«q_0: ─┤ RY(-π/2) ├─────────────────────────┤0           ├─┤ RX(π) ├──»\n",
       "«     ┌┴──────────┴┐┌──────────┐┌──────────┐│  RXX(-π/2) │┌┴───────┴─┐»\n",
       "«q_1: ┤1           ├┤ RX(-π/2) ├┤ RZ(-π/4) ├┤1           ├┤ RX(-π/2) ├»\n",
       "«     │  RXX(-π/2) │├──────────┤└──────────┘└────────────┘└──────────┘»\n",
       "«q_2: ┤0           ├┤ RX(3π/4) ├──────────────────────────────────────»\n",
       "«     └────────────┘└──────────┘                                      »\n",
       "«q_3: ────────────────────────────────────────────────────────────────»\n",
       "«                                                                     »\n",
       "«                                                      ┌────────────┐»\n",
       "«q_0: ─────────────────────────────────────────────────┤0           ├»\n",
       "«     ┌─────────┐┌────────────┐┌──────────┐┌──────────┐│  RXX(-π/2) │»\n",
       "«q_1: ┤ RZ(π/4) ├┤1           ├┤ RX(-π/2) ├┤ RZ(-π/4) ├┤1           ├»\n",
       "«     └─────────┘│  RXX(-π/2) │├──────────┤└──────────┘└────────────┘»\n",
       "«q_2: ───────────┤0           ├┤ RY(-π/2) ├──────────────────────────»\n",
       "«                └────────────┘└──────────┘                          »\n",
       "«q_3: ───────────────────────────────────────────────────────────────»\n",
       "«                                                                    »\n",
       "«      ┌───────┐             ┌───────────┐┌──────────┐ ┌───────┐  »\n",
       "«q_0: ─┤ RZ(π) ├─────────────┤0          ├┤ RX(3π/4) ├─┤ RZ(π) ├──»\n",
       "«     ┌┴───────┴─┐┌─────────┐│           │├──────────┤ └───────┘  »\n",
       "«q_1: ┤ RZ(-π/2) ├┤ RY(π/2) ├┤  RXX(π/2) ├┤ RZ(-π/4) ├────────────»\n",
       "«     └──────────┘└─────────┘│           │├─────────┬┘┌──────────┐»\n",
       "«q_2: ───────────────────────┤1          ├┤ RY(π/4) ├─┤ RZ(3π/2) ├»\n",
       "«                            └───────────┘└─────────┘ └──────────┘»\n",
       "«q_3: ────────────────────────────────────────────────────────────»\n",
       "«                                                                 »\n",
       "«                                                                              »\n",
       "«q_0: ─────────────────────────────────────────────────────────────────────────»\n",
       "«     ┌────────────┐┌─────────┐ ┌───────┐┌────────────┐┌──────────┐┌──────────┐»\n",
       "«q_1: ┤0           ├┤ RX(π/2) ├─┤ RZ(π) ├┤1           ├┤ RX(-π/2) ├┤ RZ(-π/4) ├»\n",
       "«     │            │└─────────┘ └───────┘│  RXX(-π/2) │├─────────┬┘└──────────┘»\n",
       "«q_2: ┤  RXX(-π/2) ├─────────────────────┤0           ├┤ RX(π/2) ├─────────────»\n",
       "«     │            │┌──────────┐         └────────────┘└─────────┘             »\n",
       "«q_3: ┤1           ├┤ RX(-π/2) ├───────────────────────────────────────────────»\n",
       "«     └────────────┘└──────────┘                                               »\n",
       "«     ┌────────────┐┌──────────┐                                     »\n",
       "«q_0: ┤0           ├┤ RX(7π/4) ├─────────────────────────────────────»\n",
       "«     │  RXX(-π/2) │├──────────┤┌─────────┐┌────────────┐┌──────────┐»\n",
       "«q_1: ┤1           ├┤ RX(-π/2) ├┤ RZ(π/4) ├┤1           ├┤ RX(-π/2) ├»\n",
       "«     └────────────┘└──────────┘└─────────┘│  RXX(-π/2) │├─────────┬┘»\n",
       "«q_2: ─────────────────────────────────────┤0           ├┤ RY(π/2) ├─»\n",
       "«                                          └────────────┘└─────────┘ »\n",
       "«q_3: ───────────────────────────────────────────────────────────────»\n",
       "«                                                                    »\n",
       "«                 ┌────────────┐            ┌────────────┐            »\n",
       "«q_0: ────────────┤0           ├────────────┤0           ├────────────»\n",
       "«     ┌──────────┐│  RXX(-π/2) │┌──────────┐│            │┌─────────┐ »\n",
       "«q_1: ┤ RZ(-π/4) ├┤1           ├┤ RZ(-π/2) ├┤  RXX(-π/2) ├┤ RY(π/2) ├─»\n",
       "«     ├──────────┤└────────────┘└──────────┘│            │├─────────┴┐»\n",
       "«q_2: ┤ RZ(-π/4) ├──────────────────────────┤1           ├┤ RX(-π/2) ├»\n",
       "«     └──────────┘                          └────────────┘└──────────┘»\n",
       "«q_3: ────────────────────────────────────────────────────────────────»\n",
       "«                                                                     »\n",
       "«                 ┌────────────┐┌─────────┐┌────────────┐┌──────────┐»\n",
       "«q_0: ────────────┤0           ├┤ RY(π/2) ├┤1           ├┤ RX(-π/2) ├»\n",
       "«     ┌──────────┐│            │└─────────┘│  RXX(-π/2) │└┬───────┬─┘»\n",
       "«q_1: ┤ RZ(-π/4) ├┤  RXX(-π/2) ├───────────┤0           ├─┤ RX(π) ├──»\n",
       "«     ├──────────┤│            │           └────────────┘ └───────┘  »\n",
       "«q_2: ┤ RZ(-π/4) ├┤1           ├─────────────────────────────────────»\n",
       "«     └──────────┘└────────────┘                                     »\n",
       "«q_3: ───────────────────────────────────────────────────────────────»\n",
       "«                                                                    »\n",
       "«                              \n",
       "«q_0: ─────────────────────────\n",
       "«     ┌────────────┐┌─────────┐\n",
       "«q_1: ┤0           ├┤ RY(π/2) ├\n",
       "«     │  RXX(-π/2) │└─────────┘\n",
       "«q_2: ┤1           ├───────────\n",
       "«     └────────────┘           \n",
       "«q_3: ─────────────────────────\n",
       "«                              </pre>"
      ],
      "text/plain": [
       "global phase: -5π/4\n",
       "                                           ┌────────────┐┌──────────┐»\n",
       "q_0: ──────────────────────────────────────┤1           ├┤ RX(-π/2) ├»\n",
       "     ┌──────────┐┌────────────┐ ┌───────┐  │  RXX(-π/2) │└┬───────┬─┘»\n",
       "q_1: ┤ RY(-π/2) ├┤0           ├─┤ RX(π) ├──┤0           ├─┤ RZ(π) ├──»\n",
       "     └──────────┘│  RXX(-π/2) │┌┴───────┴─┐└┬──────────┬┘ └───────┘  »\n",
       "q_2: ────────────┤1           ├┤ RX(-π/2) ├─┤ RY(-π/2) ├─────────────»\n",
       "                 └────────────┘└──────────┘ └──────────┘             »\n",
       "q_3: ────────────────────────────────────────────────────────────────»\n",
       "                                                                     »\n",
       "«      ┌──────────┐                         ┌────────────┐ ┌───────┐  »\n",
       "«q_0: ─┤ RY(-π/2) ├─────────────────────────┤0           ├─┤ RX(π) ├──»\n",
       "«     ┌┴──────────┴┐┌──────────┐┌──────────┐│  RXX(-π/2) │┌┴───────┴─┐»\n",
       "«q_1: ┤1           ├┤ RX(-π/2) ├┤ RZ(-π/4) ├┤1           ├┤ RX(-π/2) ├»\n",
       "«     │  RXX(-π/2) │├──────────┤└──────────┘└────────────┘└──────────┘»\n",
       "«q_2: ┤0           ├┤ RX(3π/4) ├──────────────────────────────────────»\n",
       "«     └────────────┘└──────────┘                                      »\n",
       "«q_3: ────────────────────────────────────────────────────────────────»\n",
       "«                                                                     »\n",
       "«                                                      ┌────────────┐»\n",
       "«q_0: ─────────────────────────────────────────────────┤0           ├»\n",
       "«     ┌─────────┐┌────────────┐┌──────────┐┌──────────┐│  RXX(-π/2) │»\n",
       "«q_1: ┤ RZ(π/4) ├┤1           ├┤ RX(-π/2) ├┤ RZ(-π/4) ├┤1           ├»\n",
       "«     └─────────┘│  RXX(-π/2) │├──────────┤└──────────┘└────────────┘»\n",
       "«q_2: ───────────┤0           ├┤ RY(-π/2) ├──────────────────────────»\n",
       "«                └────────────┘└──────────┘                          »\n",
       "«q_3: ───────────────────────────────────────────────────────────────»\n",
       "«                                                                    »\n",
       "«      ┌───────┐             ┌───────────┐┌──────────┐ ┌───────┐  »\n",
       "«q_0: ─┤ RZ(π) ├─────────────┤0          ├┤ RX(3π/4) ├─┤ RZ(π) ├──»\n",
       "«     ┌┴───────┴─┐┌─────────┐│           │├──────────┤ └───────┘  »\n",
       "«q_1: ┤ RZ(-π/2) ├┤ RY(π/2) ├┤  RXX(π/2) ├┤ RZ(-π/4) ├────────────»\n",
       "«     └──────────┘└─────────┘│           │├─────────┬┘┌──────────┐»\n",
       "«q_2: ───────────────────────┤1          ├┤ RY(π/4) ├─┤ RZ(3π/2) ├»\n",
       "«                            └───────────┘└─────────┘ └──────────┘»\n",
       "«q_3: ────────────────────────────────────────────────────────────»\n",
       "«                                                                 »\n",
       "«                                                                              »\n",
       "«q_0: ─────────────────────────────────────────────────────────────────────────»\n",
       "«     ┌────────────┐┌─────────┐ ┌───────┐┌────────────┐┌──────────┐┌──────────┐»\n",
       "«q_1: ┤0           ├┤ RX(π/2) ├─┤ RZ(π) ├┤1           ├┤ RX(-π/2) ├┤ RZ(-π/4) ├»\n",
       "«     │            │└─────────┘ └───────┘│  RXX(-π/2) │├─────────┬┘└──────────┘»\n",
       "«q_2: ┤  RXX(-π/2) ├─────────────────────┤0           ├┤ RX(π/2) ├─────────────»\n",
       "«     │            │┌──────────┐         └────────────┘└─────────┘             »\n",
       "«q_3: ┤1           ├┤ RX(-π/2) ├───────────────────────────────────────────────»\n",
       "«     └────────────┘└──────────┘                                               »\n",
       "«     ┌────────────┐┌──────────┐                                     »\n",
       "«q_0: ┤0           ├┤ RX(7π/4) ├─────────────────────────────────────»\n",
       "«     │  RXX(-π/2) │├──────────┤┌─────────┐┌────────────┐┌──────────┐»\n",
       "«q_1: ┤1           ├┤ RX(-π/2) ├┤ RZ(π/4) ├┤1           ├┤ RX(-π/2) ├»\n",
       "«     └────────────┘└──────────┘└─────────┘│  RXX(-π/2) │├─────────┬┘»\n",
       "«q_2: ─────────────────────────────────────┤0           ├┤ RY(π/2) ├─»\n",
       "«                                          └────────────┘└─────────┘ »\n",
       "«q_3: ───────────────────────────────────────────────────────────────»\n",
       "«                                                                    »\n",
       "«                 ┌────────────┐            ┌────────────┐            »\n",
       "«q_0: ────────────┤0           ├────────────┤0           ├────────────»\n",
       "«     ┌──────────┐│  RXX(-π/2) │┌──────────┐│            │┌─────────┐ »\n",
       "«q_1: ┤ RZ(-π/4) ├┤1           ├┤ RZ(-π/2) ├┤  RXX(-π/2) ├┤ RY(π/2) ├─»\n",
       "«     ├──────────┤└────────────┘└──────────┘│            │├─────────┴┐»\n",
       "«q_2: ┤ RZ(-π/4) ├──────────────────────────┤1           ├┤ RX(-π/2) ├»\n",
       "«     └──────────┘                          └────────────┘└──────────┘»\n",
       "«q_3: ────────────────────────────────────────────────────────────────»\n",
       "«                                                                     »\n",
       "«                 ┌────────────┐┌─────────┐┌────────────┐┌──────────┐»\n",
       "«q_0: ────────────┤0           ├┤ RY(π/2) ├┤1           ├┤ RX(-π/2) ├»\n",
       "«     ┌──────────┐│            │└─────────┘│  RXX(-π/2) │└┬───────┬─┘»\n",
       "«q_1: ┤ RZ(-π/4) ├┤  RXX(-π/2) ├───────────┤0           ├─┤ RX(π) ├──»\n",
       "«     ├──────────┤│            │           └────────────┘ └───────┘  »\n",
       "«q_2: ┤ RZ(-π/4) ├┤1           ├─────────────────────────────────────»\n",
       "«     └──────────┘└────────────┘                                     »\n",
       "«q_3: ───────────────────────────────────────────────────────────────»\n",
       "«                                                                    »\n",
       "«                              \n",
       "«q_0: ─────────────────────────\n",
       "«     ┌────────────┐┌─────────┐\n",
       "«q_1: ┤0           ├┤ RY(π/2) ├\n",
       "«     │  RXX(-π/2) │└─────────┘\n",
       "«q_2: ┤1           ├───────────\n",
       "«     └────────────┘           \n",
       "«q_3: ─────────────────────────\n",
       "«                              "
      ]
     },
     "execution_count": 13,
     "metadata": {},
     "output_type": "execute_result"
    }
   ],
   "source": [
    "native_cuccaro = get_native_gates(cuccaro)\n",
    "native_cuccaro.draw()"
   ]
  },
  {
   "cell_type": "code",
   "execution_count": 14,
   "id": "7910c847",
   "metadata": {},
   "outputs": [
    {
     "name": "stdout",
     "output_type": "stream",
     "text": [
      "[[0.    0.08  0.485 0.2  ]\n",
      " [0.08  0.    0.45  0.25 ]\n",
      " [0.485 0.45  0.    0.15 ]\n",
      " [0.2   0.25  0.15  0.   ]]\n"
     ]
    }
   ],
   "source": [
    "cost = np.array([\n",
    "    [0, 0.08, 0.97, 0.2], \n",
    "    [0.08, 0, 0.4, 0],\n",
    "    [0, 0.5, 0, 0],\n",
    "    [0.2, 0.5, 0.30, 0],    \n",
    "])\n",
    "# make cost symmetric\n",
    "cost = (cost + cost.T)/2\n",
    "print(cost)"
   ]
  },
  {
   "cell_type": "code",
   "execution_count": 15,
   "id": "e7992f21",
   "metadata": {},
   "outputs": [
    {
     "data": {
      "text/plain": [
       "{Qubit(QuantumRegister(4, 'q'), 1): 0,\n",
       " Qubit(QuantumRegister(4, 'q'), 0): 1,\n",
       " Qubit(QuantumRegister(4, 'q'), 2): 3,\n",
       " Qubit(QuantumRegister(4, 'q'), 3): 2}"
      ]
     },
     "execution_count": 15,
     "metadata": {},
     "output_type": "execute_result"
    }
   ],
   "source": [
    "map_circuit(native_cuccaro, cost)"
   ]
  },
  {
   "cell_type": "code",
   "execution_count": null,
   "id": "339b16b6",
   "metadata": {},
   "outputs": [],
   "source": []
  }
 ],
 "metadata": {
  "kernelspec": {
   "display_name": "Python 3 (ipykernel)",
   "language": "python",
   "name": "python3"
  },
  "language_info": {
   "codemirror_mode": {
    "name": "ipython",
    "version": 3
   },
   "file_extension": ".py",
   "mimetype": "text/x-python",
   "name": "python",
   "nbconvert_exporter": "python",
   "pygments_lexer": "ipython3",
   "version": "3.8.8"
  }
 },
 "nbformat": 4,
 "nbformat_minor": 5
}
